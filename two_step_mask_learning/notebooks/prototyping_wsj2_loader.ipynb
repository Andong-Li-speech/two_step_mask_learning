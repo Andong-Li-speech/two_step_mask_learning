{
 "cells": [
  {
   "cell_type": "code",
   "execution_count": null,
   "metadata": {},
   "outputs": [],
   "source": [
    "import os \n",
    "import sys \n",
    "current_dir = os.path.dirname(os.path.abspath('__file__'))\n",
    "root_dir = os.path.abspath(os.path.join(current_dir, '../../'))\n",
    "sys.path.append(root_dir)\n",
    "from __config__ import * \n",
    "from torch.utils.data import Dataset, DataLoader \n",
    "from glob2 import glob\n",
    "from scipy.io.wavfile import read as scipy_wavread\n",
    "import time "
   ]
  },
  {
   "cell_type": "code",
   "execution_count": null,
   "metadata": {},
   "outputs": [],
   "source": [
    "# Create a torch loader from the initial .wav files \n",
    "print(WSJ0_MIX_2_8K_PATH)\n",
    "print(WSJ0_MIX_2_16K_PATH)\n",
    "# def WSJ0Loader(Dataset):\n",
    "#     def __init__()"
   ]
  },
  {
   "cell_type": "code",
   "execution_count": null,
   "metadata": {},
   "outputs": [],
   "source": [
    "# check what is happening with the min max folders \n",
    "\n",
    "def analyze_wsj0mix(dirpath):\n",
    "    \n",
    "    min_dir = os.path.join(dirpath, 'min')\n",
    "    max_dir = os.path.join(dirpath, 'max')\n",
    "    \n",
    "    test_dir_min = os.path.join(min_dir, 'tt')\n",
    "    test_dir_max = os.path.join(max_dir, 'tt')\n",
    "#     create the dic for all mixture keys\n",
    "    \n",
    "    \n",
    "    mixtures_dir = os.path.join(test_dir_min, 'mix')\n",
    "    files = glob(mixtures_dir + '/*.wav')\n",
    "    unique_ids = set([os.path.basename(f) for f in files])\n",
    "    \n",
    "#     check about the files in min and max \n",
    "    folders = ['s1', 's2', 'mix']\n",
    "    for uid in unique_ids: \n",
    "        min_files = [(fo, os.path.join(test_dir_min, fo, uid)) for fo in folders]\n",
    "        min_files = dict([(speaker, scipy_wavread(path)[1]) \n",
    "                          for (speaker, path) in min_files])\n",
    "        \n",
    "        max_files = [(fo, os.path.join(test_dir_max, fo, uid)) for fo in folders]\n",
    "        max_files = dict([(speaker, scipy_wavread(path)[1]) \n",
    "                          for (speaker, path) in max_files])\n",
    "        \n",
    "        assert(max_files['mix'].shape[0] ==  max(max_files['s1'].shape[0],\n",
    "                                                 max_files['s2'].shape[0]))\n",
    "        \n",
    "        assert(min_files['mix'].shape[0] ==  min(min_files['s1'].shape[0],\n",
    "                                                 min_files['s2'].shape[0]))\n",
    "    \n",
    "    return len(unique_ids)\n",
    "\n",
    "before = time.time()\n",
    "n_files = analyze_wsj0mix(WSJ0_MIX_2_16K_PATH)\n",
    "now = time.time()\n",
    "print(\"Read {} files in {} secs\".format(n_files, now - before))"
   ]
  },
  {
   "cell_type": "code",
   "execution_count": null,
   "metadata": {},
   "outputs": [],
   "source": []
  }
 ],
 "metadata": {
  "kernelspec": {
   "display_name": "Python 3",
   "language": "python",
   "name": "python3"
  },
  "language_info": {
   "codemirror_mode": {
    "name": "ipython",
    "version": 3
   },
   "file_extension": ".py",
   "mimetype": "text/x-python",
   "name": "python",
   "nbconvert_exporter": "python",
   "pygments_lexer": "ipython3",
   "version": "3.5.2"
  }
 },
 "nbformat": 4,
 "nbformat_minor": 2
}
